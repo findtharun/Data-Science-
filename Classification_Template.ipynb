{
  "nbformat": 4,
  "nbformat_minor": 0,
  "metadata": {
    "colab": {
      "name": "Classification_Template.ipynb",
      "provenance": [],
      "toc_visible": true,
      "include_colab_link": true
    },
    "kernelspec": {
      "display_name": "Python 3",
      "language": "python",
      "name": "python3"
    },
    "language_info": {
      "codemirror_mode": {
        "name": "ipython",
        "version": 3
      },
      "file_extension": ".py",
      "mimetype": "text/x-python",
      "name": "python",
      "nbconvert_exporter": "python",
      "pygments_lexer": "ipython3",
      "version": "3.7.3"
    }
  },
  "cells": [
    {
      "cell_type": "markdown",
      "metadata": {
        "id": "view-in-github",
        "colab_type": "text"
      },
      "source": [
        "<a href=\"https://colab.research.google.com/github/tharun435/Data-Science-/blob/master/Classification_Template.ipynb\" target=\"_parent\"><img src=\"https://colab.research.google.com/assets/colab-badge.svg\" alt=\"Open In Colab\"/></a>"
      ]
    },
    {
      "cell_type": "code",
      "metadata": {
        "colab_type": "code",
        "id": "r3lza35NHK_R",
        "colab": {}
      },
      "source": [
        "#machine learning libraries for data manipulation\n",
        "import numpy as np\n",
        "import pandas as pd\n",
        "from sklearn.linear_model import LogisticRegression,LinearRegression\n",
        "from sklearn.tree import DecisionTreeClassifier,DecisionTreeRegressor\n",
        "import matplotlib.pyplot as plt\n",
        "#preprocessing,metrics\n",
        "#from pandas.tools.plotting import scatter_matrix\n",
        "from sklearn.preprocessing import StandardScaler\n",
        "from sklearn.model_selection import train_test_split,KFold,cross_val_score,GridSearchCV\n",
        "from sklearn.metrics import classification_report,confusion_matrix,accuracy_score\n",
        "from sklearn.pipeline import Pipeline\n",
        "from sklearn.neighbors import KNeighborsClassifier\n",
        "from sklearn.discriminant_analysis import LinearDiscriminantAnalysis\n",
        "from sklearn.naive_bayes import GaussianNB\n",
        "from sklearn.svm import SVC\n",
        "\n",
        "#importing ensemble algorithms\n",
        "from sklearn.ensemble import AdaBoostClassifier,GradientBoostingClassifier,RandomForestClassifier,ExtraTreesClassifier\n",
        "\n",
        "#neural network libraries\n",
        "import tensorflow as tf\n",
        "from tensorflow.keras.models import Model\n",
        "from tensorflow.keras.layers import Dense,Flatten,Input\n",
        "from xgboost import XGBClassifier\n"
      ],
      "execution_count": 0,
      "outputs": []
    },
    {
      "cell_type": "code",
      "metadata": {
        "colab_type": "code",
        "id": "i9yrq3QCRIoS",
        "outputId": "88ae30b4-ebe7-4de4-e0c0-0ee99e406f7d",
        "colab": {
          "base_uri": "https://localhost:8080/",
          "height": 676
        }
      },
      "source": [
        "#data=pd.read_csv('data.csv')\n",
        "#data.head(10)\n",
        "datas=pd.read_csv('datasets - Sheet1.csv')\n",
        "datas.head(20)"
      ],
      "execution_count": 0,
      "outputs": [
        {
          "output_type": "execute_result",
          "data": {
            "text/html": [
              "<div>\n",
              "<style scoped>\n",
              "    .dataframe tbody tr th:only-of-type {\n",
              "        vertical-align: middle;\n",
              "    }\n",
              "\n",
              "    .dataframe tbody tr th {\n",
              "        vertical-align: top;\n",
              "    }\n",
              "\n",
              "    .dataframe thead th {\n",
              "        text-align: right;\n",
              "    }\n",
              "</style>\n",
              "<table border=\"1\" class=\"dataframe\">\n",
              "  <thead>\n",
              "    <tr style=\"text-align: right;\">\n",
              "      <th></th>\n",
              "      <th>cloud _cover(days)</th>\n",
              "      <th>rainfall(mm)</th>\n",
              "      <th>min_temp</th>\n",
              "      <th>obv_yield(kg/hect)</th>\n",
              "      <th>pred_yield(kg/hect)</th>\n",
              "      <th>labels</th>\n",
              "    </tr>\n",
              "  </thead>\n",
              "  <tbody>\n",
              "    <tr>\n",
              "      <th>0</th>\n",
              "      <td>34.96</td>\n",
              "      <td>833.19</td>\n",
              "      <td>19.72</td>\n",
              "      <td>1092.7</td>\n",
              "      <td>1022.24</td>\n",
              "      <td>yes</td>\n",
              "    </tr>\n",
              "    <tr>\n",
              "      <th>1</th>\n",
              "      <td>33.96</td>\n",
              "      <td>1161.41</td>\n",
              "      <td>19.25</td>\n",
              "      <td>1060.8</td>\n",
              "      <td>1022.24</td>\n",
              "      <td>yes</td>\n",
              "    </tr>\n",
              "    <tr>\n",
              "      <th>2</th>\n",
              "      <td>34.04</td>\n",
              "      <td>938.17</td>\n",
              "      <td>19.83</td>\n",
              "      <td>1060.8</td>\n",
              "      <td>1022.24</td>\n",
              "      <td>yes</td>\n",
              "    </tr>\n",
              "    <tr>\n",
              "      <th>3</th>\n",
              "      <td>32.60</td>\n",
              "      <td>1033.26</td>\n",
              "      <td>20.06</td>\n",
              "      <td>1007.8</td>\n",
              "      <td>1022.24</td>\n",
              "      <td>no</td>\n",
              "    </tr>\n",
              "    <tr>\n",
              "      <th>4</th>\n",
              "      <td>34.86</td>\n",
              "      <td>1067.67</td>\n",
              "      <td>19.27</td>\n",
              "      <td>1022.2</td>\n",
              "      <td>1022.20</td>\n",
              "      <td>yes</td>\n",
              "    </tr>\n",
              "    <tr>\n",
              "      <th>5</th>\n",
              "      <td>34.70</td>\n",
              "      <td>833.15</td>\n",
              "      <td>20.24</td>\n",
              "      <td>1247.1</td>\n",
              "      <td>1022.24</td>\n",
              "      <td>yes</td>\n",
              "    </tr>\n",
              "    <tr>\n",
              "      <th>6</th>\n",
              "      <td>35.17</td>\n",
              "      <td>962.40</td>\n",
              "      <td>19.77</td>\n",
              "      <td>1146.6</td>\n",
              "      <td>1022.24</td>\n",
              "      <td>yes</td>\n",
              "    </tr>\n",
              "    <tr>\n",
              "      <th>7</th>\n",
              "      <td>31.76</td>\n",
              "      <td>693.67</td>\n",
              "      <td>19.93</td>\n",
              "      <td>1009.8</td>\n",
              "      <td>1022.24</td>\n",
              "      <td>yes</td>\n",
              "    </tr>\n",
              "    <tr>\n",
              "      <th>8</th>\n",
              "      <td>35.23</td>\n",
              "      <td>694.35</td>\n",
              "      <td>19.70</td>\n",
              "      <td>1160.1</td>\n",
              "      <td>1022.24</td>\n",
              "      <td>yes</td>\n",
              "    </tr>\n",
              "    <tr>\n",
              "      <th>9</th>\n",
              "      <td>33.14</td>\n",
              "      <td>692.42</td>\n",
              "      <td>20.08</td>\n",
              "      <td>985.8</td>\n",
              "      <td>1022.24</td>\n",
              "      <td>yes</td>\n",
              "    </tr>\n",
              "    <tr>\n",
              "      <th>10</th>\n",
              "      <td>34.33</td>\n",
              "      <td>1168.00</td>\n",
              "      <td>18.98</td>\n",
              "      <td>1009.0</td>\n",
              "      <td>1022.24</td>\n",
              "      <td>no</td>\n",
              "    </tr>\n",
              "    <tr>\n",
              "      <th>11</th>\n",
              "      <td>33.81</td>\n",
              "      <td>824.00</td>\n",
              "      <td>19.24</td>\n",
              "      <td>925.0</td>\n",
              "      <td>1022.24</td>\n",
              "      <td>yes</td>\n",
              "    </tr>\n",
              "    <tr>\n",
              "      <th>12</th>\n",
              "      <td>34.13</td>\n",
              "      <td>878.00</td>\n",
              "      <td>19.76</td>\n",
              "      <td>1275.0</td>\n",
              "      <td>1022.24</td>\n",
              "      <td>yes</td>\n",
              "    </tr>\n",
              "    <tr>\n",
              "      <th>13</th>\n",
              "      <td>33.86</td>\n",
              "      <td>851.00</td>\n",
              "      <td>19.49</td>\n",
              "      <td>912.0</td>\n",
              "      <td>1022.24</td>\n",
              "      <td>yes</td>\n",
              "    </tr>\n",
              "    <tr>\n",
              "      <th>14</th>\n",
              "      <td>33.85</td>\n",
              "      <td>802.00</td>\n",
              "      <td>20.10</td>\n",
              "      <td>907.0</td>\n",
              "      <td>1022.24</td>\n",
              "      <td>yes</td>\n",
              "    </tr>\n",
              "    <tr>\n",
              "      <th>15</th>\n",
              "      <td>34.49</td>\n",
              "      <td>915.00</td>\n",
              "      <td>20.14</td>\n",
              "      <td>1023.0</td>\n",
              "      <td>1022.24</td>\n",
              "      <td>yes</td>\n",
              "    </tr>\n",
              "    <tr>\n",
              "      <th>16</th>\n",
              "      <td>34.53</td>\n",
              "      <td>687.00</td>\n",
              "      <td>19.50</td>\n",
              "      <td>880.0</td>\n",
              "      <td>1022.24</td>\n",
              "      <td>yes</td>\n",
              "    </tr>\n",
              "    <tr>\n",
              "      <th>17</th>\n",
              "      <td>34.98</td>\n",
              "      <td>1293.00</td>\n",
              "      <td>19.31</td>\n",
              "      <td>780.0</td>\n",
              "      <td>1022.24</td>\n",
              "      <td>yes</td>\n",
              "    </tr>\n",
              "    <tr>\n",
              "      <th>18</th>\n",
              "      <td>34.02</td>\n",
              "      <td>709.00</td>\n",
              "      <td>19.65</td>\n",
              "      <td>920.0</td>\n",
              "      <td>1022.24</td>\n",
              "      <td>yes</td>\n",
              "    </tr>\n",
              "    <tr>\n",
              "      <th>19</th>\n",
              "      <td>33.96</td>\n",
              "      <td>728.00</td>\n",
              "      <td>19.66</td>\n",
              "      <td>930.0</td>\n",
              "      <td>1022.24</td>\n",
              "      <td>yes</td>\n",
              "    </tr>\n",
              "  </tbody>\n",
              "</table>\n",
              "</div>"
            ],
            "text/plain": [
              "    cloud _cover(days)  rainfall(mm)  min_temp  obv_yield(kg/hect)  \\\n",
              "0                34.96        833.19     19.72              1092.7   \n",
              "1                33.96       1161.41     19.25              1060.8   \n",
              "2                34.04        938.17     19.83              1060.8   \n",
              "3                32.60       1033.26     20.06              1007.8   \n",
              "4                34.86       1067.67     19.27              1022.2   \n",
              "5                34.70        833.15     20.24              1247.1   \n",
              "6                35.17        962.40     19.77              1146.6   \n",
              "7                31.76        693.67     19.93              1009.8   \n",
              "8                35.23        694.35     19.70              1160.1   \n",
              "9                33.14        692.42     20.08               985.8   \n",
              "10               34.33       1168.00     18.98              1009.0   \n",
              "11               33.81        824.00     19.24               925.0   \n",
              "12               34.13        878.00     19.76              1275.0   \n",
              "13               33.86        851.00     19.49               912.0   \n",
              "14               33.85        802.00     20.10               907.0   \n",
              "15               34.49        915.00     20.14              1023.0   \n",
              "16               34.53        687.00     19.50               880.0   \n",
              "17               34.98       1293.00     19.31               780.0   \n",
              "18               34.02        709.00     19.65               920.0   \n",
              "19               33.96        728.00     19.66               930.0   \n",
              "\n",
              "    pred_yield(kg/hect) labels  \n",
              "0               1022.24    yes  \n",
              "1               1022.24    yes  \n",
              "2               1022.24    yes  \n",
              "3               1022.24     no  \n",
              "4               1022.20    yes  \n",
              "5               1022.24    yes  \n",
              "6               1022.24    yes  \n",
              "7               1022.24    yes  \n",
              "8               1022.24    yes  \n",
              "9               1022.24    yes  \n",
              "10              1022.24     no  \n",
              "11              1022.24    yes  \n",
              "12              1022.24    yes  \n",
              "13              1022.24    yes  \n",
              "14              1022.24    yes  \n",
              "15              1022.24    yes  \n",
              "16              1022.24    yes  \n",
              "17              1022.24    yes  \n",
              "18              1022.24    yes  \n",
              "19              1022.24    yes  "
            ]
          },
          "metadata": {
            "tags": []
          },
          "execution_count": 22
        }
      ]
    },
    {
      "cell_type": "code",
      "metadata": {
        "colab_type": "code",
        "id": "ISFsATeXRa5f",
        "outputId": "b15e96a6-27a0-4ffd-c919-a03840660bbd",
        "colab": {
          "base_uri": "https://localhost:8080/",
          "height": 817
        }
      },
      "source": [
        "print(datas.shape)\n",
        "#print(datas.dtype)\n",
        "print(datas.columns)\n",
        "print(datas['labels'])\n",
        "from sklearn.preprocessing import LabelEncoder\n",
        "le=LabelEncoder()\n",
        "x=datas['labels']\n",
        "le.fit(['yes','no'])\n",
        "x=le.transform(x)\n",
        "print(x)\n",
        "le.classes_\n",
        "datas['labels']=x\n",
        "datas.head(10)"
      ],
      "execution_count": 0,
      "outputs": [
        {
          "output_type": "stream",
          "text": [
            "(20, 6)\n",
            "Index(['cloud _cover(days)', 'rainfall(mm)', 'min_temp', 'obv_yield(kg/hect)',\n",
            "       'pred_yield(kg/hect)', 'labels'],\n",
            "      dtype='object')\n",
            "0     yes\n",
            "1     yes\n",
            "2     yes\n",
            "3      no\n",
            "4     yes\n",
            "5     yes\n",
            "6     yes\n",
            "7     yes\n",
            "8     yes\n",
            "9     yes\n",
            "10     no\n",
            "11    yes\n",
            "12    yes\n",
            "13    yes\n",
            "14    yes\n",
            "15    yes\n",
            "16    yes\n",
            "17    yes\n",
            "18    yes\n",
            "19    yes\n",
            "Name: labels, dtype: object\n",
            "[1 1 1 0 1 1 1 1 1 1 0 1 1 1 1 1 1 1 1 1]\n"
          ],
          "name": "stdout"
        },
        {
          "output_type": "execute_result",
          "data": {
            "text/html": [
              "<div>\n",
              "<style scoped>\n",
              "    .dataframe tbody tr th:only-of-type {\n",
              "        vertical-align: middle;\n",
              "    }\n",
              "\n",
              "    .dataframe tbody tr th {\n",
              "        vertical-align: top;\n",
              "    }\n",
              "\n",
              "    .dataframe thead th {\n",
              "        text-align: right;\n",
              "    }\n",
              "</style>\n",
              "<table border=\"1\" class=\"dataframe\">\n",
              "  <thead>\n",
              "    <tr style=\"text-align: right;\">\n",
              "      <th></th>\n",
              "      <th>cloud _cover(days)</th>\n",
              "      <th>rainfall(mm)</th>\n",
              "      <th>min_temp</th>\n",
              "      <th>obv_yield(kg/hect)</th>\n",
              "      <th>pred_yield(kg/hect)</th>\n",
              "      <th>labels</th>\n",
              "    </tr>\n",
              "  </thead>\n",
              "  <tbody>\n",
              "    <tr>\n",
              "      <th>0</th>\n",
              "      <td>34.96</td>\n",
              "      <td>833.19</td>\n",
              "      <td>19.72</td>\n",
              "      <td>1092.7</td>\n",
              "      <td>1022.24</td>\n",
              "      <td>1</td>\n",
              "    </tr>\n",
              "    <tr>\n",
              "      <th>1</th>\n",
              "      <td>33.96</td>\n",
              "      <td>1161.41</td>\n",
              "      <td>19.25</td>\n",
              "      <td>1060.8</td>\n",
              "      <td>1022.24</td>\n",
              "      <td>1</td>\n",
              "    </tr>\n",
              "    <tr>\n",
              "      <th>2</th>\n",
              "      <td>34.04</td>\n",
              "      <td>938.17</td>\n",
              "      <td>19.83</td>\n",
              "      <td>1060.8</td>\n",
              "      <td>1022.24</td>\n",
              "      <td>1</td>\n",
              "    </tr>\n",
              "    <tr>\n",
              "      <th>3</th>\n",
              "      <td>32.60</td>\n",
              "      <td>1033.26</td>\n",
              "      <td>20.06</td>\n",
              "      <td>1007.8</td>\n",
              "      <td>1022.24</td>\n",
              "      <td>0</td>\n",
              "    </tr>\n",
              "    <tr>\n",
              "      <th>4</th>\n",
              "      <td>34.86</td>\n",
              "      <td>1067.67</td>\n",
              "      <td>19.27</td>\n",
              "      <td>1022.2</td>\n",
              "      <td>1022.20</td>\n",
              "      <td>1</td>\n",
              "    </tr>\n",
              "    <tr>\n",
              "      <th>5</th>\n",
              "      <td>34.70</td>\n",
              "      <td>833.15</td>\n",
              "      <td>20.24</td>\n",
              "      <td>1247.1</td>\n",
              "      <td>1022.24</td>\n",
              "      <td>1</td>\n",
              "    </tr>\n",
              "    <tr>\n",
              "      <th>6</th>\n",
              "      <td>35.17</td>\n",
              "      <td>962.40</td>\n",
              "      <td>19.77</td>\n",
              "      <td>1146.6</td>\n",
              "      <td>1022.24</td>\n",
              "      <td>1</td>\n",
              "    </tr>\n",
              "    <tr>\n",
              "      <th>7</th>\n",
              "      <td>31.76</td>\n",
              "      <td>693.67</td>\n",
              "      <td>19.93</td>\n",
              "      <td>1009.8</td>\n",
              "      <td>1022.24</td>\n",
              "      <td>1</td>\n",
              "    </tr>\n",
              "    <tr>\n",
              "      <th>8</th>\n",
              "      <td>35.23</td>\n",
              "      <td>694.35</td>\n",
              "      <td>19.70</td>\n",
              "      <td>1160.1</td>\n",
              "      <td>1022.24</td>\n",
              "      <td>1</td>\n",
              "    </tr>\n",
              "    <tr>\n",
              "      <th>9</th>\n",
              "      <td>33.14</td>\n",
              "      <td>692.42</td>\n",
              "      <td>20.08</td>\n",
              "      <td>985.8</td>\n",
              "      <td>1022.24</td>\n",
              "      <td>1</td>\n",
              "    </tr>\n",
              "  </tbody>\n",
              "</table>\n",
              "</div>"
            ],
            "text/plain": [
              "   cloud _cover(days)  rainfall(mm)  min_temp  obv_yield(kg/hect)  \\\n",
              "0               34.96        833.19     19.72              1092.7   \n",
              "1               33.96       1161.41     19.25              1060.8   \n",
              "2               34.04        938.17     19.83              1060.8   \n",
              "3               32.60       1033.26     20.06              1007.8   \n",
              "4               34.86       1067.67     19.27              1022.2   \n",
              "5               34.70        833.15     20.24              1247.1   \n",
              "6               35.17        962.40     19.77              1146.6   \n",
              "7               31.76        693.67     19.93              1009.8   \n",
              "8               35.23        694.35     19.70              1160.1   \n",
              "9               33.14        692.42     20.08               985.8   \n",
              "\n",
              "   pred_yield(kg/hect)  labels  \n",
              "0              1022.24       1  \n",
              "1              1022.24       1  \n",
              "2              1022.24       1  \n",
              "3              1022.24       0  \n",
              "4              1022.20       1  \n",
              "5              1022.24       1  \n",
              "6              1022.24       1  \n",
              "7              1022.24       1  \n",
              "8              1022.24       1  \n",
              "9              1022.24       1  "
            ]
          },
          "metadata": {
            "tags": []
          },
          "execution_count": 23
        }
      ]
    },
    {
      "cell_type": "code",
      "metadata": {
        "colab_type": "code",
        "id": "4AuYJRrweG0O",
        "outputId": "961359f2-a1de-4ef0-e771-d823c5eb0496",
        "colab": {
          "base_uri": "https://localhost:8080/",
          "height": 321
        }
      },
      "source": [
        "#peek over datasets,statistical description of the complete data\n",
        "datas.describe()"
      ],
      "execution_count": 0,
      "outputs": [
        {
          "output_type": "execute_result",
          "data": {
            "text/html": [
              "<div>\n",
              "<style scoped>\n",
              "    .dataframe tbody tr th:only-of-type {\n",
              "        vertical-align: middle;\n",
              "    }\n",
              "\n",
              "    .dataframe tbody tr th {\n",
              "        vertical-align: top;\n",
              "    }\n",
              "\n",
              "    .dataframe thead th {\n",
              "        text-align: right;\n",
              "    }\n",
              "</style>\n",
              "<table border=\"1\" class=\"dataframe\">\n",
              "  <thead>\n",
              "    <tr style=\"text-align: right;\">\n",
              "      <th></th>\n",
              "      <th>cloud _cover(days)</th>\n",
              "      <th>rainfall(mm)</th>\n",
              "      <th>min_temp</th>\n",
              "      <th>obv_yield(kg/hect)</th>\n",
              "      <th>pred_yield(kg/hect)</th>\n",
              "      <th>labels</th>\n",
              "    </tr>\n",
              "  </thead>\n",
              "  <tbody>\n",
              "    <tr>\n",
              "      <th>count</th>\n",
              "      <td>20.000000</td>\n",
              "      <td>20.000000</td>\n",
              "      <td>20.000000</td>\n",
              "      <td>20.000000</td>\n",
              "      <td>20.000000</td>\n",
              "      <td>20.000000</td>\n",
              "    </tr>\n",
              "    <tr>\n",
              "      <th>mean</th>\n",
              "      <td>34.119000</td>\n",
              "      <td>888.234500</td>\n",
              "      <td>19.684000</td>\n",
              "      <td>1017.735000</td>\n",
              "      <td>1022.238000</td>\n",
              "      <td>0.900000</td>\n",
              "    </tr>\n",
              "    <tr>\n",
              "      <th>std</th>\n",
              "      <td>0.863212</td>\n",
              "      <td>179.160581</td>\n",
              "      <td>0.351724</td>\n",
              "      <td>123.774478</td>\n",
              "      <td>0.008944</td>\n",
              "      <td>0.307794</td>\n",
              "    </tr>\n",
              "    <tr>\n",
              "      <th>min</th>\n",
              "      <td>31.760000</td>\n",
              "      <td>687.000000</td>\n",
              "      <td>18.980000</td>\n",
              "      <td>780.000000</td>\n",
              "      <td>1022.200000</td>\n",
              "      <td>0.000000</td>\n",
              "    </tr>\n",
              "    <tr>\n",
              "      <th>25%</th>\n",
              "      <td>33.857500</td>\n",
              "      <td>723.250000</td>\n",
              "      <td>19.445000</td>\n",
              "      <td>923.750000</td>\n",
              "      <td>1022.240000</td>\n",
              "      <td>1.000000</td>\n",
              "    </tr>\n",
              "    <tr>\n",
              "      <th>50%</th>\n",
              "      <td>34.085000</td>\n",
              "      <td>842.095000</td>\n",
              "      <td>19.710000</td>\n",
              "      <td>1009.400000</td>\n",
              "      <td>1022.240000</td>\n",
              "      <td>1.000000</td>\n",
              "    </tr>\n",
              "    <tr>\n",
              "      <th>75%</th>\n",
              "      <td>34.740000</td>\n",
              "      <td>980.115000</td>\n",
              "      <td>19.962500</td>\n",
              "      <td>1068.775000</td>\n",
              "      <td>1022.240000</td>\n",
              "      <td>1.000000</td>\n",
              "    </tr>\n",
              "    <tr>\n",
              "      <th>max</th>\n",
              "      <td>35.230000</td>\n",
              "      <td>1293.000000</td>\n",
              "      <td>20.240000</td>\n",
              "      <td>1275.000000</td>\n",
              "      <td>1022.240000</td>\n",
              "      <td>1.000000</td>\n",
              "    </tr>\n",
              "  </tbody>\n",
              "</table>\n",
              "</div>"
            ],
            "text/plain": [
              "       cloud _cover(days)  rainfall(mm)   min_temp  obv_yield(kg/hect)  \\\n",
              "count           20.000000     20.000000  20.000000           20.000000   \n",
              "mean            34.119000    888.234500  19.684000         1017.735000   \n",
              "std              0.863212    179.160581   0.351724          123.774478   \n",
              "min             31.760000    687.000000  18.980000          780.000000   \n",
              "25%             33.857500    723.250000  19.445000          923.750000   \n",
              "50%             34.085000    842.095000  19.710000         1009.400000   \n",
              "75%             34.740000    980.115000  19.962500         1068.775000   \n",
              "max             35.230000   1293.000000  20.240000         1275.000000   \n",
              "\n",
              "       pred_yield(kg/hect)     labels  \n",
              "count            20.000000  20.000000  \n",
              "mean           1022.238000   0.900000  \n",
              "std               0.008944   0.307794  \n",
              "min            1022.200000   0.000000  \n",
              "25%            1022.240000   1.000000  \n",
              "50%            1022.240000   1.000000  \n",
              "75%            1022.240000   1.000000  \n",
              "max            1022.240000   1.000000  "
            ]
          },
          "metadata": {
            "tags": []
          },
          "execution_count": 24
        }
      ]
    },
    {
      "cell_type": "code",
      "metadata": {
        "colab_type": "code",
        "id": "zFjieFBeh3gq",
        "outputId": "06ffbf86-07f6-4faf-e58b-a44da953fd5b",
        "colab": {
          "base_uri": "https://localhost:8080/",
          "height": 84
        }
      },
      "source": [
        "#class Distribution\n",
        "#for i in datas.columns:\n",
        "#  print(datas.groupby(i).size())\n",
        "datas.groupby('labels').size()"
      ],
      "execution_count": 0,
      "outputs": [
        {
          "output_type": "execute_result",
          "data": {
            "text/plain": [
              "labels\n",
              "0     2\n",
              "1    18\n",
              "dtype: int64"
            ]
          },
          "metadata": {
            "tags": []
          },
          "execution_count": 26
        }
      ]
    },
    {
      "cell_type": "code",
      "metadata": {
        "colab_type": "code",
        "id": "Q8u0dcZ9iFMU",
        "outputId": "cb2ee0de-fec2-4571-d04c-143bdb97d9a5",
        "colab": {
          "base_uri": "https://localhost:8080/",
          "height": 483
        }
      },
      "source": [
        "#unimodal visuals\n",
        "datas.hist(sharex=False,sharey=False,xlabelsize=1,ylabelsize=1)"
      ],
      "execution_count": 0,
      "outputs": [
        {
          "output_type": "execute_result",
          "data": {
            "text/plain": [
              "array([[<matplotlib.axes._subplots.AxesSubplot object at 0x000001D8A4C82588>,\n",
              "        <matplotlib.axes._subplots.AxesSubplot object at 0x000001D8A6505940>],\n",
              "       [<matplotlib.axes._subplots.AxesSubplot object at 0x000001D8A6533EF0>,\n",
              "        <matplotlib.axes._subplots.AxesSubplot object at 0x000001D8A65694E0>],\n",
              "       [<matplotlib.axes._subplots.AxesSubplot object at 0x000001D8A6595A90>,\n",
              "        <matplotlib.axes._subplots.AxesSubplot object at 0x000001D8A65CA080>]],\n",
              "      dtype=object)"
            ]
          },
          "metadata": {
            "tags": []
          },
          "execution_count": 27
        },
        {
          "output_type": "display_data",
          "data": {
            "image/png": "[encoded data removed]",
            "text/plain": [
              "<Figure size 432x288 with 6 Axes>"
            ]
          },
          "metadata": {
            "tags": [],
            "needs_background": "light"
          }
        }
      ]
    },
    {
      "cell_type": "code",
      "metadata": {
        "colab_type": "code",
        "id": "GUoagJMnjVvW",
        "outputId": "a0da17d6-98dd-4265-b1e7-ec2c70db83fc",
        "colab": {
          "base_uri": "https://localhost:8080/",
          "height": 420
        }
      },
      "source": [
        "#density plots\n",
        "datas.plot(kind='density',subplots=True,layout=(6,2),sharex=False,sharey=False,legend='none',fontsize=4)"
      ],
      "execution_count": 0,
      "outputs": [
        {
          "output_type": "execute_result",
          "data": {
            "text/plain": [
              "array([[<matplotlib.axes._subplots.AxesSubplot object at 0x000001D8A67255C0>,\n",
              "        <matplotlib.axes._subplots.AxesSubplot object at 0x000001D8A678F9B0>],\n",
              "       [<matplotlib.axes._subplots.AxesSubplot object at 0x000001D8A67BBF28>,\n",
              "        <matplotlib.axes._subplots.AxesSubplot object at 0x000001D8A67F6518>],\n",
              "       [<matplotlib.axes._subplots.AxesSubplot object at 0x000001D8A6825AC8>,\n",
              "        <matplotlib.axes._subplots.AxesSubplot object at 0x000001D8A68660B8>],\n",
              "       [<matplotlib.axes._subplots.AxesSubplot object at 0x000001D8A6895668>,\n",
              "        <matplotlib.axes._subplots.AxesSubplot object at 0x000001D8A68C6C50>],\n",
              "       [<matplotlib.axes._subplots.AxesSubplot object at 0x000001D8A68C6C88>,\n",
              "        <matplotlib.axes._subplots.AxesSubplot object at 0x000001D8A69357B8>],\n",
              "       [<matplotlib.axes._subplots.AxesSubplot object at 0x000001D8A6968D68>,\n",
              "        <matplotlib.axes._subplots.AxesSubplot object at 0x000001D8A699CA58>]],\n",
              "      dtype=object)"
            ]
          },
          "metadata": {
            "tags": []
          },
          "execution_count": 28
        },
        {
          "output_type": "display_data",
          "data": {
            "image/png": "[encoded data removed]",
            "text/plain": [
              "<Figure size 432x288 with 12 Axes>"
            ]
          },
          "metadata": {
            "tags": [],
            "needs_background": "light"
          }
        }
      ]
    },
    {
      "cell_type": "code",
      "metadata": {
        "colab_type": "code",
        "id": "WrpEr741kNco",
        "outputId": "17502f0a-75f3-4d36-d796-19afa88224a6",
        "colab": {
          "base_uri": "https://localhost:8080/",
          "height": 353
        }
      },
      "source": [
        "#Multi model Data Visuals\n",
        "fig=plt.figure()\n",
        "ax=fig.add_subplot(111)\n",
        "cax=ax.matshow(datas.corr(),vmin=-1,vmax=1,interpolation='none')\n",
        "fig.colorbar(cax)\n",
        "plt.show()"
      ],
      "execution_count": 0,
      "outputs": [
        {
          "output_type": "display_data",
          "data": {
            "image/png": "[encoded data removed]",
            "text/plain": [
              "<Figure size 432x288 with 2 Axes>"
            ]
          },
          "metadata": {
            "tags": [],
            "needs_background": "light"
          }
        }
      ]
    },
    {
      "cell_type": "code",
      "metadata": {
        "colab_type": "code",
        "id": "FR3etGJrlWLB",
        "outputId": "62e60b6e-edb0-4f23-9fad-a7a04970232d",
        "colab": {
          "base_uri": "https://localhost:8080/",
          "height": 34
        }
      },
      "source": [
        "#spliting dataset \n",
        "arr=datas.values\n",
        "x=arr[:,:5]\n",
        "y=arr[:,5]\n",
        "validation_size=0.20#20%\n",
        "seed=7#to produce the same results multiple times\n",
        "x_train,x_test,y_train,y_test=train_test_split(x,y,test_size=.20,random_state=seed)\n",
        "(x_train.shape,x_test.shape,y_train.shape,y_test.shape)"
      ],
      "execution_count": 0,
      "outputs": [
        {
          "output_type": "execute_result",
          "data": {
            "text/plain": [
              "((16, 5), (4, 5), (16,), (4,))"
            ]
          },
          "metadata": {
            "tags": []
          },
          "execution_count": 30
        }
      ]
    },
    {
      "cell_type": "code",
      "metadata": {
        "colab_type": "code",
        "id": "n2993Gl7m0m9",
        "outputId": "efea8543-4a38-43ce-ee74-97c6e1fe791b",
        "colab": {
          "base_uri": "https://localhost:8080/",
          "height": 877
        }
      },
      "source": [
        "#evaluation of algorithms\n",
        "folds=5\n",
        "seed=7\n",
        "score='accuracy'\n",
        "\n",
        "#testing on multiple models\n",
        "models=[]\n",
        "models.append(('LR',LogisticRegression()))\n",
        "models.append(('LDA',LinearDiscriminantAnalysis()))\n",
        "models.append(('KNN',KNeighborsClassifier()))\n",
        "models.append(('CART',DecisionTreeClassifier()))\n",
        "models.append(('NB',GaussianNB()))\n",
        "models.append(('SVM',SVC()))\n",
        "\n",
        "#results\n",
        "results=[]\n",
        "names=[]\n",
        "for name,model in models:\n",
        "    kfold=KFold(n_splits=folds,random_state=seed)\n",
        "    cv_res=cross_val_score(model,x_train,y_train,cv=kfold,scoring=score)\n",
        "    results.append(cv_res)\n",
        "    names.append(name)\n",
        "    message=\"classifier:{0}\\nAccuracy:{1}\\nstd_dev:{2}\".format(name, cv_res.mean()*100,cv_res.std())\n",
        "    print(message)\n",
        "    print('\\n')\n"
      ],
      "execution_count": 0,
      "outputs": [
        {
          "output_type": "stream",
          "text": [
            "classifier:LR\n",
            "Accuracy:86.66666666666666\n",
            "std_dev:0.26666666666666666\n",
            "\n",
            "\n",
            "classifier:LDA\n",
            "Accuracy:80.0\n",
            "std_dev:0.26666666666666666\n",
            "\n",
            "\n",
            "classifier:KNN\n",
            "Accuracy:86.66666666666666\n",
            "std_dev:0.16329931618554522\n",
            "\n",
            "\n",
            "classifier:CART\n",
            "Accuracy:80.0\n",
            "std_dev:0.26666666666666666\n",
            "\n",
            "\n",
            "classifier:NB\n",
            "Accuracy:86.66666666666666\n",
            "std_dev:0.16329931618554522\n",
            "\n",
            "\n",
            "classifier:SVM\n",
            "Accuracy:86.66666666666666\n",
            "std_dev:0.16329931618554522\n",
            "\n",
            "\n"
          ],
          "name": "stdout"
        },
        {
          "output_type": "stream",
          "text": [
            "C:\\Users\\ritheesh\\Anaconda3\\lib\\site-packages\\sklearn\\linear_model\\logistic.py:432: FutureWarning: Default solver will be changed to 'lbfgs' in 0.22. Specify a solver to silence this warning.\n",
            "  FutureWarning)\n",
            "C:\\Users\\ritheesh\\Anaconda3\\lib\\site-packages\\sklearn\\linear_model\\logistic.py:432: FutureWarning: Default solver will be changed to 'lbfgs' in 0.22. Specify a solver to silence this warning.\n",
            "  FutureWarning)\n",
            "C:\\Users\\ritheesh\\Anaconda3\\lib\\site-packages\\sklearn\\linear_model\\logistic.py:432: FutureWarning: Default solver will be changed to 'lbfgs' in 0.22. Specify a solver to silence this warning.\n",
            "  FutureWarning)\n",
            "C:\\Users\\ritheesh\\Anaconda3\\lib\\site-packages\\sklearn\\linear_model\\logistic.py:432: FutureWarning: Default solver will be changed to 'lbfgs' in 0.22. Specify a solver to silence this warning.\n",
            "  FutureWarning)\n",
            "C:\\Users\\ritheesh\\Anaconda3\\lib\\site-packages\\sklearn\\linear_model\\logistic.py:432: FutureWarning: Default solver will be changed to 'lbfgs' in 0.22. Specify a solver to silence this warning.\n",
            "  FutureWarning)\n",
            "C:\\Users\\ritheesh\\Anaconda3\\lib\\site-packages\\sklearn\\svm\\base.py:193: FutureWarning: The default value of gamma will change from 'auto' to 'scale' in version 0.22 to account better for unscaled features. Set gamma explicitly to 'auto' or 'scale' to avoid this warning.\n",
            "  \"avoid this warning.\", FutureWarning)\n",
            "C:\\Users\\ritheesh\\Anaconda3\\lib\\site-packages\\sklearn\\svm\\base.py:193: FutureWarning: The default value of gamma will change from 'auto' to 'scale' in version 0.22 to account better for unscaled features. Set gamma explicitly to 'auto' or 'scale' to avoid this warning.\n",
            "  \"avoid this warning.\", FutureWarning)\n",
            "C:\\Users\\ritheesh\\Anaconda3\\lib\\site-packages\\sklearn\\svm\\base.py:193: FutureWarning: The default value of gamma will change from 'auto' to 'scale' in version 0.22 to account better for unscaled features. Set gamma explicitly to 'auto' or 'scale' to avoid this warning.\n",
            "  \"avoid this warning.\", FutureWarning)\n",
            "C:\\Users\\ritheesh\\Anaconda3\\lib\\site-packages\\sklearn\\svm\\base.py:193: FutureWarning: The default value of gamma will change from 'auto' to 'scale' in version 0.22 to account better for unscaled features. Set gamma explicitly to 'auto' or 'scale' to avoid this warning.\n",
            "  \"avoid this warning.\", FutureWarning)\n",
            "C:\\Users\\ritheesh\\Anaconda3\\lib\\site-packages\\sklearn\\svm\\base.py:193: FutureWarning: The default value of gamma will change from 'auto' to 'scale' in version 0.22 to account better for unscaled features. Set gamma explicitly to 'auto' or 'scale' to avoid this warning.\n",
            "  \"avoid this warning.\", FutureWarning)\n"
          ],
          "name": "stderr"
        }
      ]
    },
    {
      "cell_type": "code",
      "metadata": {
        "id": "CQcV5AR-d2MI",
        "colab_type": "code",
        "colab": {},
        "outputId": "a0778947-1c78-4f29-abad-7bdcebc99fc2"
      },
      "source": [
        "import seaborn as sns\n",
        "fig=plt.figure()\n",
        "fig.suptitle(\"comparision of algorithms effciency\")\n",
        "ax=fig.add_subplot(111)\n",
        "sns.barplot(results)\n",
        "ax.set_xticklabels(names)"
      ],
      "execution_count": 0,
      "outputs": [
        {
          "output_type": "execute_result",
          "data": {
            "text/plain": [
              "[Text(0, 0, 'LR'),\n",
              " Text(0, 0, 'LDA'),\n",
              " Text(0, 0, 'KNN'),\n",
              " Text(0, 0, 'CART'),\n",
              " Text(0, 0, 'NB'),\n",
              " Text(0, 0, 'SVM')]"
            ]
          },
          "metadata": {
            "tags": []
          },
          "execution_count": 33
        },
        {
          "output_type": "display_data",
          "data": {
            "image/png": "[encoded data removed]",
            "text/plain": [
              "<Figure size 432x288 with 1 Axes>"
            ]
          },
          "metadata": {
            "tags": [],
            "needs_background": "light"
          }
        }
      ]
    },
    {
      "cell_type": "code",
      "metadata": {
        "colab_type": "code",
        "id": "S7FMERh2q8c8",
        "outputId": "1d7943d8-e6a7-4595-fa4a-89f0ab255732",
        "colab": {
          "base_uri": "https://localhost:8080/",
          "height": 386
        }
      },
      "source": [
        "#comparing algorithms via box plot and whisker plot\n",
        "fig=plt.figure()\n",
        "fig.suptitle(\"comparision of algorithms effciency\")\n",
        "ax=fig.add_subplot(111)\n",
        "plt.boxplot(results)\n",
        "ax.set_xticklabels(names)\n",
        "plt.show()"
      ],
      "execution_count": 0,
      "outputs": [
        {
          "output_type": "display_data",
          "data": {
            "image/png": "[encoded data removed]",
            "text/plain": [
              "<Figure size 576x396 with 1 Axes>"
            ]
          },
          "metadata": {
            "tags": []
          }
        }
      ]
    },
    {
      "cell_type": "code",
      "metadata": {
        "colab_type": "code",
        "id": "9ZO-KSDyr5jn",
        "outputId": "9369177e-5cb9-4b93-9d8d-b60ed0451ebf",
        "colab": {
          "base_uri": "https://localhost:8080/",
          "height": 910
        }
      },
      "source": [
        "#ensembles\n",
        "ea=[]\n",
        "\n",
        "ea.append(('AdaBoost',AdaBoostClassifier()))\n",
        "ea.append(('GradBoost',GradientBoostingClassifier()))\n",
        "ea.append(('RandF',RandomForestClassifier()))\n",
        "ea.append(('ET',ExtraTreesClassifier()))\n",
        "ea.append(('XGB', XGBClassifier()))\n",
        "\n",
        "#results prediction\n",
        "results=[]\n",
        "names=[]\n",
        "for name,model in ea:\n",
        "  kfold=KFold(n_splits=folds,random_state=seed)\n",
        "  cv_res=cross_val_score(model,x_train,y_train,scoring=score)\n",
        "  results.append(cv_res)\n",
        "  names.append(name)\n",
        "  output=\"Algorithm:{0}\\nAccuracy:{1}\\nStdDev:{2}\".format(name,cv_res.mean(),cv_res.std())\n",
        "  print(\"\\n\"+output)"
      ],
      "execution_count": 0,
      "outputs": [
        {
          "output_type": "stream",
          "text": [
            "\n",
            "Algorithm:AdaBoost\n",
            "Accuracy:0.8055555555555557\n",
            "StdDev:0.039283710065919325\n",
            "\n",
            "Algorithm:GradBoost\n",
            "Accuracy:0.8055555555555557\n",
            "StdDev:0.039283710065919325\n",
            "\n",
            "Algorithm:RandF\n",
            "Accuracy:0.8055555555555557\n",
            "StdDev:0.039283710065919325\n",
            "\n",
            "Algorithm:ET\n",
            "Accuracy:0.8055555555555557\n",
            "StdDev:0.039283710065919325\n",
            "\n",
            "Algorithm:XGB\n",
            "Accuracy:0.888888888888889\n",
            "StdDev:0.0785674201318386\n"
          ],
          "name": "stdout"
        },
        {
          "output_type": "stream",
          "text": [
            "/usr/local/lib/python3.6/dist-packages/sklearn/model_selection/_split.py:2053: FutureWarning: You should specify a value for 'cv' instead of relying on the default value. The default value will change from 3 to 5 in version 0.22.\n",
            "  warnings.warn(CV_WARNING, FutureWarning)\n",
            "/usr/local/lib/python3.6/dist-packages/sklearn/model_selection/_split.py:652: Warning: The least populated class in y has only 2 members, which is too few. The minimum number of members in any class cannot be less than n_splits=3.\n",
            "  % (min_groups, self.n_splits)), Warning)\n",
            "/usr/local/lib/python3.6/dist-packages/sklearn/model_selection/_split.py:2053: FutureWarning: You should specify a value for 'cv' instead of relying on the default value. The default value will change from 3 to 5 in version 0.22.\n",
            "  warnings.warn(CV_WARNING, FutureWarning)\n",
            "/usr/local/lib/python3.6/dist-packages/sklearn/model_selection/_split.py:652: Warning: The least populated class in y has only 2 members, which is too few. The minimum number of members in any class cannot be less than n_splits=3.\n",
            "  % (min_groups, self.n_splits)), Warning)\n",
            "/usr/local/lib/python3.6/dist-packages/sklearn/model_selection/_split.py:2053: FutureWarning: You should specify a value for 'cv' instead of relying on the default value. The default value will change from 3 to 5 in version 0.22.\n",
            "  warnings.warn(CV_WARNING, FutureWarning)\n",
            "/usr/local/lib/python3.6/dist-packages/sklearn/model_selection/_split.py:652: Warning: The least populated class in y has only 2 members, which is too few. The minimum number of members in any class cannot be less than n_splits=3.\n",
            "  % (min_groups, self.n_splits)), Warning)\n",
            "/usr/local/lib/python3.6/dist-packages/sklearn/ensemble/forest.py:246: FutureWarning: The default value of n_estimators will change from 10 in version 0.20 to 100 in 0.22.\n",
            "  \"10 in version 0.20 to 100 in 0.22.\", FutureWarning)\n",
            "/usr/local/lib/python3.6/dist-packages/sklearn/ensemble/forest.py:246: FutureWarning: The default value of n_estimators will change from 10 in version 0.20 to 100 in 0.22.\n",
            "  \"10 in version 0.20 to 100 in 0.22.\", FutureWarning)\n",
            "/usr/local/lib/python3.6/dist-packages/sklearn/ensemble/forest.py:246: FutureWarning: The default value of n_estimators will change from 10 in version 0.20 to 100 in 0.22.\n",
            "  \"10 in version 0.20 to 100 in 0.22.\", FutureWarning)\n",
            "/usr/local/lib/python3.6/dist-packages/sklearn/model_selection/_split.py:2053: FutureWarning: You should specify a value for 'cv' instead of relying on the default value. The default value will change from 3 to 5 in version 0.22.\n",
            "  warnings.warn(CV_WARNING, FutureWarning)\n",
            "/usr/local/lib/python3.6/dist-packages/sklearn/model_selection/_split.py:652: Warning: The least populated class in y has only 2 members, which is too few. The minimum number of members in any class cannot be less than n_splits=3.\n",
            "  % (min_groups, self.n_splits)), Warning)\n",
            "/usr/local/lib/python3.6/dist-packages/sklearn/ensemble/forest.py:246: FutureWarning: The default value of n_estimators will change from 10 in version 0.20 to 100 in 0.22.\n",
            "  \"10 in version 0.20 to 100 in 0.22.\", FutureWarning)\n",
            "/usr/local/lib/python3.6/dist-packages/sklearn/ensemble/forest.py:246: FutureWarning: The default value of n_estimators will change from 10 in version 0.20 to 100 in 0.22.\n",
            "  \"10 in version 0.20 to 100 in 0.22.\", FutureWarning)\n",
            "/usr/local/lib/python3.6/dist-packages/sklearn/ensemble/forest.py:246: FutureWarning: The default value of n_estimators will change from 10 in version 0.20 to 100 in 0.22.\n",
            "  \"10 in version 0.20 to 100 in 0.22.\", FutureWarning)\n",
            "/usr/local/lib/python3.6/dist-packages/sklearn/model_selection/_split.py:2053: FutureWarning: You should specify a value for 'cv' instead of relying on the default value. The default value will change from 3 to 5 in version 0.22.\n",
            "  warnings.warn(CV_WARNING, FutureWarning)\n",
            "/usr/local/lib/python3.6/dist-packages/sklearn/model_selection/_split.py:652: Warning: The least populated class in y has only 2 members, which is too few. The minimum number of members in any class cannot be less than n_splits=3.\n",
            "  % (min_groups, self.n_splits)), Warning)\n"
          ],
          "name": "stderr"
        }
      ]
    },
    {
      "cell_type": "code",
      "metadata": {
        "colab_type": "code",
        "id": "dmujVKrGuOen",
        "outputId": "859f3815-a3a4-435a-8448-8d960db4c267",
        "colab": {
          "base_uri": "https://localhost:8080/",
          "height": 386
        }
      },
      "source": [
        "#comparing algorithms via box plot and whisker plot\n",
        "fig=plt.figure()\n",
        "fig.suptitle(\"comparision of algorithms effciency\")\n",
        "ax=fig.add_subplot(111)\n",
        "plt.boxplot(results)\n",
        "ax.set_xticklabels(names)\n",
        "plt.show()"
      ],
      "execution_count": 0,
      "outputs": [
        {
          "output_type": "display_data",
          "data": {
            "image/png": "[encoded data removed]",
            "text/plain": [
              "<Figure size 576x396 with 1 Axes>"
            ]
          },
          "metadata": {
            "tags": []
          }
        }
      ]
    },
    {
      "cell_type": "markdown",
      "metadata": {
        "colab_type": "text",
        "id": "RetbASD5o8zD"
      },
      "source": [
        "# ***plots***"
      ]
    },
    {
      "cell_type": "code",
      "metadata": {
        "colab_type": "code",
        "id": "CncF-8hJo483",
        "outputId": "a6ce9fc5-606e-4754-af4b-00bbf79f75b4",
        "colab": {
          "base_uri": "https://localhost:8080/",
          "height": 364
        }
      },
      "source": [
        "data_viz=pd.read_csv('dat_visuals.csv')\n",
        "print(data_viz.shape)\n",
        "#print(datas.dtype)\n",
        "print(data_viz.columns)\n",
        "#print(datas['labels'])\n",
        "from sklearn.preprocessing import LabelEncoder\n",
        "le=LabelEncoder()\n",
        "x=data_viz['Year']\n",
        "le.fit(x)\n",
        "x=le.transform(x)\n",
        "print(x)\n",
        "le.classes_\n",
        "data_viz['Year']=x\n",
        "data_viz.head(10)"
      ],
      "execution_count": 0,
      "outputs": [
        {
          "output_type": "stream",
          "text": [
            "(9, 7)\n",
            "Index(['Year', 'Rice', 'Wheat', 'Jowar', 'Bajra', 'Maize', 'soyabeans'], dtype='object')\n",
            "[0 1 2 3 4 5 6 7 8]\n"
          ],
          "name": "stdout"
        },
        {
          "output_type": "execute_result",
          "data": {
            "text/html": [
              "<div>\n",
              "<style scoped>\n",
              "    .dataframe tbody tr th:only-of-type {\n",
              "        vertical-align: middle;\n",
              "    }\n",
              "\n",
              "    .dataframe tbody tr th {\n",
              "        vertical-align: top;\n",
              "    }\n",
              "\n",
              "    .dataframe thead th {\n",
              "        text-align: right;\n",
              "    }\n",
              "</style>\n",
              "<table border=\"1\" class=\"dataframe\">\n",
              "  <thead>\n",
              "    <tr style=\"text-align: right;\">\n",
              "      <th></th>\n",
              "      <th>Year</th>\n",
              "      <th>Rice</th>\n",
              "      <th>Wheat</th>\n",
              "      <th>Jowar</th>\n",
              "      <th>Bajra</th>\n",
              "      <th>Maize</th>\n",
              "      <th>soyabeans</th>\n",
              "    </tr>\n",
              "  </thead>\n",
              "  <tbody>\n",
              "    <tr>\n",
              "      <th>0</th>\n",
              "      <td>0</td>\n",
              "      <td>1986</td>\n",
              "      <td>2778</td>\n",
              "      <td>847</td>\n",
              "      <td>650</td>\n",
              "      <td>1792</td>\n",
              "      <td>1138</td>\n",
              "    </tr>\n",
              "    <tr>\n",
              "      <th>1</th>\n",
              "      <td>1</td>\n",
              "      <td>1901</td>\n",
              "      <td>2708</td>\n",
              "      <td>764</td>\n",
              "      <td>688</td>\n",
              "      <td>1822</td>\n",
              "      <td>822</td>\n",
              "    </tr>\n",
              "    <tr>\n",
              "      <th>2</th>\n",
              "      <td>2</td>\n",
              "      <td>2079</td>\n",
              "      <td>2762</td>\n",
              "      <td>771</td>\n",
              "      <td>869</td>\n",
              "      <td>2000</td>\n",
              "      <td>940</td>\n",
              "    </tr>\n",
              "    <tr>\n",
              "      <th>3</th>\n",
              "      <td>3</td>\n",
              "      <td>1744</td>\n",
              "      <td>2610</td>\n",
              "      <td>754</td>\n",
              "      <td>610</td>\n",
              "      <td>1681</td>\n",
              "      <td>762</td>\n",
              "    </tr>\n",
              "    <tr>\n",
              "      <th>4</th>\n",
              "      <td>4</td>\n",
              "      <td>2077</td>\n",
              "      <td>2713</td>\n",
              "      <td>716</td>\n",
              "      <td>1141</td>\n",
              "      <td>2041</td>\n",
              "      <td>1193</td>\n",
              "    </tr>\n",
              "    <tr>\n",
              "      <th>5</th>\n",
              "      <td>5</td>\n",
              "      <td>1984</td>\n",
              "      <td>2602</td>\n",
              "      <td>797</td>\n",
              "      <td>859</td>\n",
              "      <td>1907</td>\n",
              "      <td>908</td>\n",
              "    </tr>\n",
              "    <tr>\n",
              "      <th>6</th>\n",
              "      <td>6</td>\n",
              "      <td>2102</td>\n",
              "      <td>2619</td>\n",
              "      <td>880</td>\n",
              "      <td>802</td>\n",
              "      <td>1938</td>\n",
              "      <td>1073</td>\n",
              "    </tr>\n",
              "    <tr>\n",
              "      <th>7</th>\n",
              "      <td>7</td>\n",
              "      <td>2131</td>\n",
              "      <td>2708</td>\n",
              "      <td>844</td>\n",
              "      <td>886</td>\n",
              "      <td>1912</td>\n",
              "      <td>1062</td>\n",
              "    </tr>\n",
              "    <tr>\n",
              "      <th>8</th>\n",
              "      <td>8</td>\n",
              "      <td>2202</td>\n",
              "      <td>2802</td>\n",
              "      <td>1021</td>\n",
              "      <td>1042</td>\n",
              "      <td>2335</td>\n",
              "      <td>1235</td>\n",
              "    </tr>\n",
              "  </tbody>\n",
              "</table>\n",
              "</div>"
            ],
            "text/plain": [
              "   Year  Rice  Wheat  Jowar  Bajra  Maize  soyabeans\n",
              "0     0  1986   2778    847    650   1792       1138\n",
              "1     1  1901   2708    764    688   1822        822\n",
              "2     2  2079   2762    771    869   2000        940\n",
              "3     3  1744   2610    754    610   1681        762\n",
              "4     4  2077   2713    716   1141   2041       1193\n",
              "5     5  1984   2602    797    859   1907        908\n",
              "6     6  2102   2619    880    802   1938       1073\n",
              "7     7  2131   2708    844    886   1912       1062\n",
              "8     8  2202   2802   1021   1042   2335       1235"
            ]
          },
          "metadata": {
            "tags": []
          },
          "execution_count": 3
        }
      ]
    },
    {
      "cell_type": "code",
      "metadata": {
        "colab_type": "code",
        "id": "6AboP7NkqXrQ",
        "outputId": "9c40b418-8906-49ad-bcd5-f2fb66ee78de",
        "colab": {
          "base_uri": "https://localhost:8080/",
          "height": 2334
        }
      },
      "source": [
        "x=[0,1,2,3,4,5,6,7,8]\n",
        "for i in data_viz.columns:\n",
        "  plt.bar(x,data_viz[i])\n",
        "  plt.show()\n"
      ],
      "execution_count": 0,
      "outputs": [
        {
          "output_type": "display_data",
          "data": {
            "image/png": "[encoded data removed]",
            "text/plain": [
              "<Figure size 576x396 with 1 Axes>"
            ]
          },
          "metadata": {
            "tags": []
          }
        },
        {
          "output_type": "display_data",
          "data": {
            "image/png": "[encoded data removed]",
            "text/plain": [
              "<Figure size 576x396 with 1 Axes>"
            ]
          },
          "metadata": {
            "tags": []
          }
        },
        {
          "output_type": "display_data",
          "data": {
            "image/png": "[encoded data removed]",
            "text/plain": [
              "<Figure size 576x396 with 1 Axes>"
            ]
          },
          "metadata": {
            "tags": []
          }
        },
        {
          "output_type": "display_data",
          "data": {
            "image/png": "[encoded data removed]",
            "text/plain": [
              "<Figure size 576x396 with 1 Axes>"
            ]
          },
          "metadata": {
            "tags": []
          }
        },
        {
          "output_type": "display_data",
          "data": {
            "image/png": "[encoded data removed]",
            "text/plain": [
              "<Figure size 576x396 with 1 Axes>"
            ]
          },
          "metadata": {
            "tags": []
          }
        },
        {
          "output_type": "display_data",
          "data": {
            "image/png": "[encoded data removed]",
            "text/plain": [
              "<Figure size 576x396 with 1 Axes>"
            ]
          },
          "metadata": {
            "tags": []
          }
        },
        {
          "output_type": "display_data",
          "data": {
            "image/png": "[encoded data removed]",
            "text/plain": [
              "<Figure size 576x396 with 1 Axes>"
            ]
          },
          "metadata": {
            "tags": []
          }
        }
      ]
    },
    {
      "cell_type": "code",
      "metadata": {
        "colab_type": "code",
        "id": "xK2ax4ZirDz-",
        "colab": {},
        "outputId": "67cac1ea-ce74-482b-fda0-de01ee552a35"
      },
      "source": [
        "import os\n",
        "os.system('faq.pdf')"
      ],
      "execution_count": 0,
      "outputs": [
        {
          "output_type": "execute_result",
          "data": {
            "text/plain": [
              "0"
            ]
          },
          "metadata": {
            "tags": []
          },
          "execution_count": 6
        }
      ]
    },
    {
      "cell_type": "code",
      "metadata": {
        "id": "GXgjpR2Ld2My",
        "colab_type": "code",
        "colab": {},
        "outputId": "efefd2a2-fd03-40b3-e8eb-8cf12f78c7ce"
      },
      "source": [
        "'''import webbrowser\n",
        "webbrowser.open(r'file:///faq.pdf')'''"
      ],
      "execution_count": 0,
      "outputs": [
        {
          "output_type": "execute_result",
          "data": {
            "text/plain": [
              "\"import webbrowser\\nwebbrowser.open(r'file:///faq.pdf')\""
            ]
          },
          "metadata": {
            "tags": []
          },
          "execution_count": 4
        }
      ]
    },
    {
      "cell_type": "code",
      "metadata": {
        "id": "CsnGsj4Xd2M3",
        "colab_type": "code",
        "colab": {}
      },
      "source": [
        ""
      ],
      "execution_count": 0,
      "outputs": []
    }
  ]
}